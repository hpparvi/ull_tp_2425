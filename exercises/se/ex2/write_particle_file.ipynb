{
 "cells": [
  {
   "cell_type": "code",
   "execution_count": 32,
   "id": "0cdcf5f8",
   "metadata": {},
   "outputs": [],
   "source": [
    "# This script generates N particles with random initial velocities and positions\n",
    "\n",
    "import numpy as np\n",
    "import matplotlib.pyplot as plt\n",
    "\n",
    "\n",
    "def generate_N_particles(N, datafile, range_pos, t_step, t_out, t_end, \\\n",
    "                         range_vel=1, diff_mass=False, range_mass=5):\n",
    "    \n",
    "    np.random.seed(0)\n",
    "    \n",
    "    # Generate N random positions and velocities (positive and negative)\n",
    "    positions = np.random.rand(3*N)*2*range_pos - range_pos\n",
    "    velocities = np.random.rand(3*N)*2*range_vel - range_vel\n",
    "    \n",
    "    # Shape into 3D particle arrays\n",
    "    positions = positions.reshape((N, 3))\n",
    "    velocities = velocities.reshape((N, 3))\n",
    "    \n",
    "    # Different masses if desired\n",
    "    if diff_mass:\n",
    "        masses = np.random.rand(N)*range_mass   \n",
    "    else:\n",
    "        masses = np.tile(1.0, N)\n",
    "     \n",
    "    \n",
    "    # Save all of this into a file\n",
    "    with open(datafile, \"w\") as file:\n",
    "        file.write(str(t_step) + \"\\n\") # go to next line\n",
    "        file.write(str(t_out)  + \"\\n\")\n",
    "        file.write(str(t_end)  + \"\\n\")\n",
    "        file.write(str(N)      + \"\\n\")\n",
    "        for ii in range(N):\n",
    "            mass_str = f\"{masses[ii]:.8f}\" # Limit the number of decimal places\n",
    "            pos_str  = \" \".join(f\"{p:.8f}\" for p in positions[ii]) # Join with blank spaces\n",
    "            vel_str  = \" \".join(f\"{v:.8f}\" for v in velocities[ii])\n",
    "            file.write(mass_str + \" \" + pos_str + \" \" + vel_str + \"\\n\")\n",
    "\n",
    "\n",
    "            \n",
    "            \n",
    "generate_N_particles(N=20, datafile='input_20b.txt', t_step=0.001, t_out=0.1, t_end=10, \n",
    "                     range_pos=10, range_vel=1, diff_mass=False)"
   ]
  }
 ],
 "metadata": {
  "kernelspec": {
   "display_name": "Python 3 (ipykernel)",
   "language": "python",
   "name": "python3"
  },
  "language_info": {
   "codemirror_mode": {
    "name": "ipython",
    "version": 3
   },
   "file_extension": ".py",
   "mimetype": "text/x-python",
   "name": "python",
   "nbconvert_exporter": "python",
   "pygments_lexer": "ipython3",
   "version": "3.10.9"
  }
 },
 "nbformat": 4,
 "nbformat_minor": 5
}
